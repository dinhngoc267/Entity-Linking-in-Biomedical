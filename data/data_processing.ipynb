{
  "cells": [
    {
      "cell_type": "markdown",
      "metadata": {
        "id": "jQOgzzLBBjJn"
      },
      "source": [
        "### Mount Drive"
      ]
    },
    {
      "cell_type": "code",
      "execution_count": null,
      "metadata": {
        "colab": {
          "base_uri": "https://localhost:8080/"
        },
        "id": "_Q5jggGDcSEN",
        "outputId": "4879a04b-3c16-48fb-8b50-5134498d241d"
      },
      "outputs": [
        {
          "name": "stdout",
          "output_type": "stream",
          "text": [
            "\n",
            "WARNING: apt does not have a stable CLI interface. Use with caution in scripts.\n",
            "\n",
            "debconf: unable to initialize frontend: Dialog\n",
            "debconf: (No usable dialog-like program is installed, so the dialog based frontend cannot be used. at /usr/share/perl5/Debconf/FrontEnd/Dialog.pm line 76, <> line 1.)\n",
            "debconf: falling back to frontend: Readline\n",
            "debconf: unable to initialize frontend: Readline\n",
            "debconf: (This frontend requires a controlling tty.)\n",
            "debconf: falling back to frontend: Teletype\n",
            "dpkg-preconfigure: unable to re-open stdin: \n",
            "/usr/bin/xdg-open: 851: /usr/bin/xdg-open: www-browser: not found\n",
            "/usr/bin/xdg-open: 851: /usr/bin/xdg-open: links2: not found\n",
            "/usr/bin/xdg-open: 851: /usr/bin/xdg-open: elinks: not found\n",
            "/usr/bin/xdg-open: 851: /usr/bin/xdg-open: links: not found\n",
            "/usr/bin/xdg-open: 851: /usr/bin/xdg-open: lynx: not found\n",
            "/usr/bin/xdg-open: 851: /usr/bin/xdg-open: w3m: not found\n",
            "xdg-open: no method available for opening 'https://accounts.google.com/o/oauth2/auth?client_id=564921029129.apps.googleusercontent.com&redirect_uri=https%3A%2F%2Fgd-ocaml-auth.appspot.com%2Foauth2callback&scope=https%3A%2F%2Fwww.googleapis.com%2Fauth%2Fdrive&response_type=code&access_type=offline&approval_prompt=force&state=Pr-3ZHpk6Zh6ucDHZZCd2-q3l7MdndIRCjVLJkCR2AQ'\n",
            "/bin/sh: 1: firefox: not found\n",
            "/bin/sh: 1: google-chrome: not found\n",
            "/bin/sh: 1: chromium-browser: not found\n",
            "/bin/sh: 1: open: not found\n",
            "Cannot retrieve auth tokens.\n",
            "Failure(\"Error opening URL:https://accounts.google.com/o/oauth2/auth?client_id=564921029129.apps.googleusercontent.com&redirect_uri=https%3A%2F%2Fgd-ocaml-auth.appspot.com%2Foauth2callback&scope=https%3A%2F%2Fwww.googleapis.com%2Fauth%2Fdrive&response_type=code&access_type=offline&approval_prompt=force&state=Pr-3ZHpk6Zh6ucDHZZCd2-q3l7MdndIRCjVLJkCR2AQ\")\n"
          ]
        }
      ],
      "source": [
        "!sudo add-apt-repository -y ppa:alessandro-strada/ppa 2>&1 > /dev/null\n",
        "!sudo apt-get update -qq 2>&1 > /dev/null\n",
        "!sudo apt -y install -qq google-drive-ocamlfuse 2>&1 > /dev/null\n",
        "!google-drive-ocamlfuse"
      ]
    },
    {
      "cell_type": "code",
      "execution_count": null,
      "metadata": {
        "colab": {
          "base_uri": "https://localhost:8080/"
        },
        "id": "_1HBsS11cWHx",
        "outputId": "b969481d-a4b4-4a56-af6c-2ddb5f7b2585"
      },
      "outputs": [
        {
          "name": "stdout",
          "output_type": "stream",
          "text": [
            "debconf: unable to initialize frontend: Dialog\n",
            "debconf: (No usable dialog-like program is installed, so the dialog based frontend cannot be used. at /usr/share/perl5/Debconf/FrontEnd/Dialog.pm line 76, <> line 1.)\n",
            "debconf: falling back to frontend: Readline\n",
            "debconf: unable to initialize frontend: Readline\n",
            "debconf: (This frontend requires a controlling tty.)\n",
            "debconf: falling back to frontend: Teletype\n",
            "dpkg-preconfigure: unable to re-open stdin: \n",
            "Selecting previously unselected package w3m.\n",
            "(Reading database ... 123947 files and directories currently installed.)\n",
            "Preparing to unpack .../w3m_0.5.3-36build1_amd64.deb ...\n",
            "Unpacking w3m (0.5.3-36build1) ...\n",
            "Setting up w3m (0.5.3-36build1) ...\n",
            "Processing triggers for mime-support (3.60ubuntu1) ...\n",
            "Processing triggers for man-db (2.8.3-2ubuntu0.1) ...\n",
            "/content\n",
            "/content/drive\n",
            "/content\n",
            "/\n",
            "Access token retrieved correctly.\n"
          ]
        }
      ],
      "source": [
        "!sudo apt-get install -qq w3m # to act as web browser \n",
        "!xdg-settings set default-web-browser w3m.desktop # to set default browser\n",
        "%cd /content\n",
        "!mkdir drive\n",
        "%cd drive\n",
        "!mkdir MyDrive\n",
        "%cd ..\n",
        "%cd ..\n",
        "!google-drive-ocamlfuse /content/drive/MyDrive"
      ]
    },
    {
      "cell_type": "markdown",
      "metadata": {
        "id": "s66EQu2ZClN3"
      },
      "source": [
        "### Import Lib"
      ]
    },
    {
      "cell_type": "code",
      "execution_count": null,
      "metadata": {
        "id": "dYWxI5wGsIsF"
      },
      "outputs": [],
      "source": [
        "%%capture\n",
        "!pip install transformers"
      ]
    },
    {
      "cell_type": "code",
      "execution_count": null,
      "metadata": {
        "id": "WxXQW835iBZo"
      },
      "outputs": [],
      "source": [
        "%%capture\n",
        "!pip install stanza"
      ]
    },
    {
      "cell_type": "code",
      "execution_count": null,
      "metadata": {
        "colab": {
          "base_uri": "https://localhost:8080/",
          "height": 673,
          "referenced_widgets": [
            "fb13dc01a8f14a9ab3c56845ec4d32cd",
            "6f3715d6823a4aaeb5ae1ce8408be1ec",
            "418f2a81cd3a4c94b51d32b45baf4068",
            "21894e29ca0e4ae58d89d71249a44371",
            "7263388e0dc54c588bc9a89a7358aa85",
            "51cece287d2241b1868bc93af7aa3300",
            "65ca8b5fdac34d759690f1817497977b",
            "52970c682fb94def9162f88db56f1e28",
            "cceaa8fbcaae4e59a657a8a34ef1fc01",
            "aa171099b3ea45a2b40c6f6334203875",
            "352d34808d4a4b30b51cff8c191e2d7f",
            "46c541a69e51433fabfa3fd5bbc47963",
            "eef155927dc148028555b83019fe899f",
            "c7f10ef9175b4d5fb3b00a83c9ce5d03",
            "dae79ab5ecd3412e97f918f1dea3c5b1",
            "52d09b64b3a44fad9db8864ad307f5c5",
            "29738854edca426ea10385cfcf409d26",
            "16662c2715544c1797ac57ef83b43373",
            "0cf2bdfef96c4357a530c6dda93044b1",
            "8a8ed18546454df6bc8323a407066369",
            "1bbc55dda3a14432b5e0092840991f43",
            "733fda8f495643ada2b51460ecf3785a",
            "fe751a2c14a3445c84a10583f5d4feba",
            "9552a59b96ce46809c5565215c122c72",
            "f8002c2755c348e2b839ac5d474da211",
            "2b745550e3b64a79b046aa70f7af8be2",
            "cc02f77894054f63a7bba3f9d21dd997",
            "95b4b79f72e344c5961ca5422b62243a",
            "6e27936c90a045f0b0c4b30c6906a866",
            "3f88a64fb1544d1aa5215eade8d17005",
            "dcfaf7c3409f4bacbd04b5a892843f29",
            "2b0da0161106451cbee66e1ab7ba997c",
            "05efe16af5ac4e53afc1db39b0a2e873"
          ]
        },
        "id": "zkcPSo3UXFXK",
        "outputId": "40407930-7a01-4da5-f65c-5037038ad4c5"
      },
      "outputs": [
        {
          "data": {
            "application/vnd.jupyter.widget-view+json": {
              "model_id": "fb13dc01a8f14a9ab3c56845ec4d32cd",
              "version_major": 2,
              "version_minor": 0
            },
            "text/plain": [
              "Downloading https://raw.githubusercontent.com/stanfordnlp/stanza-resources/main/resources_1.4.1.json:   0%|   …"
            ]
          },
          "metadata": {},
          "output_type": "display_data"
        },
        {
          "name": "stderr",
          "output_type": "stream",
          "text": [
            "INFO:stanza:Downloading default packages for language: en (English) ...\n"
          ]
        },
        {
          "data": {
            "application/vnd.jupyter.widget-view+json": {
              "model_id": "46c541a69e51433fabfa3fd5bbc47963",
              "version_major": 2,
              "version_minor": 0
            },
            "text/plain": [
              "Downloading https://huggingface.co/stanfordnlp/stanza-en/resolve/v1.4.1/models/default.zip:   0%|          | 0…"
            ]
          },
          "metadata": {},
          "output_type": "display_data"
        },
        {
          "name": "stderr",
          "output_type": "stream",
          "text": [
            "INFO:stanza:Finished downloading models and saved to /root/stanza_resources.\n",
            "INFO:stanza:Checking for updates to resources.json in case models have been updated.  Note: this behavior can be turned off with download_method=None or download_method=DownloadMethod.REUSE_RESOURCES\n"
          ]
        },
        {
          "data": {
            "application/vnd.jupyter.widget-view+json": {
              "model_id": "fe751a2c14a3445c84a10583f5d4feba",
              "version_major": 2,
              "version_minor": 0
            },
            "text/plain": [
              "Downloading https://raw.githubusercontent.com/stanfordnlp/stanza-resources/main/resources_1.4.1.json:   0%|   …"
            ]
          },
          "metadata": {},
          "output_type": "display_data"
        },
        {
          "name": "stderr",
          "output_type": "stream",
          "text": [
            "INFO:stanza:Loading these models for language: en (English):\n",
            "========================\n",
            "| Processor | Package  |\n",
            "------------------------\n",
            "| tokenize  | combined |\n",
            "========================\n",
            "\n",
            "INFO:stanza:Use device: gpu\n",
            "INFO:stanza:Loading: tokenize\n",
            "INFO:stanza:Done loading processors!\n"
          ]
        }
      ],
      "source": [
        "from zipfile import ZipFile\n",
        "from collections import defaultdict\n",
        "from collections import Counter\n",
        "import pandas as pd\n",
        "import pickle\n",
        "from collections import defaultdict\n",
        "from tqdm import tqdm\n",
        "import stanza\n",
        "stanza.download('en')\n",
        "st = stanza.Pipeline(lang='en', processors='tokenize')\n",
        "import copy\n",
        "import torch\n",
        "import numpy as np\n",
        "import numpy as np\n",
        "import random\n",
        "import torch\n",
        "import math\n",
        "from torch.utils.data import Dataset, DataLoader\n",
        "import torch.nn as nn\n",
        "import torch.nn.functional as F\n",
        "from tqdm import tqdm"
      ]
    },
    {
      "cell_type": "markdown",
      "metadata": {
        "id": "_pZt1dWgW7AE"
      },
      "source": [
        "###Load UMLS"
      ]
    },
    {
      "cell_type": "markdown",
      "metadata": {
        "id": "y4xWyv_CKyFC"
      },
      "source": [
        "#### Load concepts names"
      ]
    },
    {
      "cell_type": "code",
      "execution_count": null,
      "metadata": {
        "colab": {
          "base_uri": "https://localhost:8080/"
        },
        "id": "zh1OCNMTweCJ",
        "outputId": "7e31045b-50b7-49b1-d6e2-295035f67a51"
      },
      "outputs": [
        {
          "name": "stdout",
          "output_type": "stream",
          "text": [
            "There are 3465486 concepts in UMLS\n"
          ]
        }
      ],
      "source": [
        "with open('/content/drive/MyDrive/Dataset/UMLs/MRCONSO.RRF') as f:\n",
        "  data = f.read().split('\\n')\n",
        "data = data[:-1]\n",
        "\n",
        "umls = defaultdict(list)\n",
        "\n",
        "for row in data:\n",
        "  row = row.split('|')\n",
        "  umls[row[0]].append(row[-5])\n",
        "\n",
        "print(f'There are {len(umls)} concepts in UMLS')"
      ]
    },
    {
      "cell_type": "code",
      "execution_count": null,
      "metadata": {
        "id": "yqk0y9q4Dlt6"
      },
      "outputs": [],
      "source": [
        "entities = []\n",
        "for key, values in umls.items():\n",
        "  umls[key] = list(set(values))\n",
        "  entities += umls[key]"
      ]
    },
    {
      "cell_type": "code",
      "execution_count": null,
      "metadata": {
        "colab": {
          "base_uri": "https://localhost:8080/",
          "height": 270
        },
        "id": "EtbdghXgYXVF",
        "outputId": "af834fd9-2fce-4f49-ef47-d85ee7c6cea6"
      },
      "outputs": [
        {
          "data": {
            "text/html": [
              "\n",
              "  <div id=\"df-ce28dfac-9d45-481e-9c61-7f61dbcdc92a\">\n",
              "    <div class=\"colab-df-container\">\n",
              "      <div>\n",
              "<style scoped>\n",
              "    .dataframe tbody tr th:only-of-type {\n",
              "        vertical-align: middle;\n",
              "    }\n",
              "\n",
              "    .dataframe tbody tr th {\n",
              "        vertical-align: top;\n",
              "    }\n",
              "\n",
              "    .dataframe thead th {\n",
              "        text-align: right;\n",
              "    }\n",
              "</style>\n",
              "<table border=\"1\" class=\"dataframe\">\n",
              "  <thead>\n",
              "    <tr style=\"text-align: right;\">\n",
              "      <th></th>\n",
              "      <th>variable</th>\n",
              "      <th>value</th>\n",
              "    </tr>\n",
              "  </thead>\n",
              "  <tbody>\n",
              "    <tr>\n",
              "      <th>0</th>\n",
              "      <td>1</td>\n",
              "      <td>0.991</td>\n",
              "    </tr>\n",
              "    <tr>\n",
              "      <th>1</th>\n",
              "      <td>2</td>\n",
              "      <td>0.008</td>\n",
              "    </tr>\n",
              "    <tr>\n",
              "      <th>2</th>\n",
              "      <td>3</td>\n",
              "      <td>0.001</td>\n",
              "    </tr>\n",
              "    <tr>\n",
              "      <th>3</th>\n",
              "      <td>4</td>\n",
              "      <td>0.000</td>\n",
              "    </tr>\n",
              "    <tr>\n",
              "      <th>4</th>\n",
              "      <td>5</td>\n",
              "      <td>0.000</td>\n",
              "    </tr>\n",
              "  </tbody>\n",
              "</table>\n",
              "</div>\n",
              "      <button class=\"colab-df-convert\" onclick=\"convertToInteractive('df-ce28dfac-9d45-481e-9c61-7f61dbcdc92a')\"\n",
              "              title=\"Convert this dataframe to an interactive table.\"\n",
              "              style=\"display:none;\">\n",
              "        \n",
              "  <svg xmlns=\"http://www.w3.org/2000/svg\" height=\"24px\"viewBox=\"0 0 24 24\"\n",
              "       width=\"24px\">\n",
              "    <path d=\"M0 0h24v24H0V0z\" fill=\"none\"/>\n",
              "    <path d=\"M18.56 5.44l.94 2.06.94-2.06 2.06-.94-2.06-.94-.94-2.06-.94 2.06-2.06.94zm-11 1L8.5 8.5l.94-2.06 2.06-.94-2.06-.94L8.5 2.5l-.94 2.06-2.06.94zm10 10l.94 2.06.94-2.06 2.06-.94-2.06-.94-.94-2.06-.94 2.06-2.06.94z\"/><path d=\"M17.41 7.96l-1.37-1.37c-.4-.4-.92-.59-1.43-.59-.52 0-1.04.2-1.43.59L10.3 9.45l-7.72 7.72c-.78.78-.78 2.05 0 2.83L4 21.41c.39.39.9.59 1.41.59.51 0 1.02-.2 1.41-.59l7.78-7.78 2.81-2.81c.8-.78.8-2.07 0-2.86zM5.41 20L4 18.59l7.72-7.72 1.47 1.35L5.41 20z\"/>\n",
              "  </svg>\n",
              "      </button>\n",
              "      \n",
              "  <style>\n",
              "    .colab-df-container {\n",
              "      display:flex;\n",
              "      flex-wrap:wrap;\n",
              "      gap: 12px;\n",
              "    }\n",
              "\n",
              "    .colab-df-convert {\n",
              "      background-color: #E8F0FE;\n",
              "      border: none;\n",
              "      border-radius: 50%;\n",
              "      cursor: pointer;\n",
              "      display: none;\n",
              "      fill: #1967D2;\n",
              "      height: 32px;\n",
              "      padding: 0 0 0 0;\n",
              "      width: 32px;\n",
              "    }\n",
              "\n",
              "    .colab-df-convert:hover {\n",
              "      background-color: #E2EBFA;\n",
              "      box-shadow: 0px 1px 2px rgba(60, 64, 67, 0.3), 0px 1px 3px 1px rgba(60, 64, 67, 0.15);\n",
              "      fill: #174EA6;\n",
              "    }\n",
              "\n",
              "    [theme=dark] .colab-df-convert {\n",
              "      background-color: #3B4455;\n",
              "      fill: #D2E3FC;\n",
              "    }\n",
              "\n",
              "    [theme=dark] .colab-df-convert:hover {\n",
              "      background-color: #434B5C;\n",
              "      box-shadow: 0px 1px 3px 1px rgba(0, 0, 0, 0.15);\n",
              "      filter: drop-shadow(0px 1px 2px rgba(0, 0, 0, 0.3));\n",
              "      fill: #FFFFFF;\n",
              "    }\n",
              "  </style>\n",
              "\n",
              "      <script>\n",
              "        const buttonEl =\n",
              "          document.querySelector('#df-ce28dfac-9d45-481e-9c61-7f61dbcdc92a button.colab-df-convert');\n",
              "        buttonEl.style.display =\n",
              "          google.colab.kernel.accessAllowed ? 'block' : 'none';\n",
              "\n",
              "        async function convertToInteractive(key) {\n",
              "          const element = document.querySelector('#df-ce28dfac-9d45-481e-9c61-7f61dbcdc92a');\n",
              "          const dataTable =\n",
              "            await google.colab.kernel.invokeFunction('convertToInteractive',\n",
              "                                                     [key], {});\n",
              "          if (!dataTable) return;\n",
              "\n",
              "          const docLinkHtml = 'Like what you see? Visit the ' +\n",
              "            '<a target=\"_blank\" href=https://colab.research.google.com/notebooks/data_table.ipynb>data table notebook</a>'\n",
              "            + ' to learn more about interactive tables.';\n",
              "          element.innerHTML = '';\n",
              "          dataTable['output_type'] = 'display_data';\n",
              "          await google.colab.output.renderOutput(dataTable, element);\n",
              "          const docLink = document.createElement('div');\n",
              "          docLink.innerHTML = docLinkHtml;\n",
              "          element.appendChild(docLink);\n",
              "        }\n",
              "      </script>\n",
              "    </div>\n",
              "  </div>\n",
              "  "
            ],
            "text/plain": [
              "   variable  value\n",
              "0         1  0.991\n",
              "1         2  0.008\n",
              "2         3  0.001\n",
              "3         4  0.000\n",
              "4         5  0.000"
            ]
          },
          "execution_count": 8,
          "metadata": {},
          "output_type": "execute_result"
        }
      ],
      "source": [
        "counter = dict(Counter(entities)) # {e_1: f_1; e_2: f_2; ....}\n",
        "value_count = counter.values()\n",
        "value_count = list(value_count) \n",
        "\n",
        "counter_value = dict(Counter(value_count)) # {f_1: ff_1; f_2: ff_2;...}\n",
        "sum_count = len(counter) #sum(counter_value.values())\n",
        "statistic = {}\n",
        "\n",
        "for key, value in counter_value.items():\n",
        "  statistic[key] = round(value/sum_count,3)\n",
        "\n",
        "df = pd.DataFrame([statistic])\n",
        "df = pd.melt(df, value_vars=df.columns[0:])\n",
        "df.head()"
      ]
    },
    {
      "cell_type": "code",
      "execution_count": null,
      "metadata": {
        "colab": {
          "base_uri": "https://localhost:8080/"
        },
        "id": "uIedD2_Qzz5c",
        "outputId": "842ca3b3-8cb9-4fab-e853-569d2de65c16"
      },
      "outputs": [
        {
          "name": "stdout",
          "output_type": "stream",
          "text": [
            "There are 0 unknown enities in train set\n",
            "There are 0 unknown enities in dev set\n",
            "There are 0 unknown enities in test set\n"
          ]
        }
      ],
      "source": [
        "train_data = []\n",
        "for row in data:\n",
        "  tmp = row.split('\\t')\n",
        "  if len(tmp) == 6:\n",
        "    if tmp[0] in training_pmids:\n",
        "      train_data.append([tmp[3],tmp[-1].split(':')[1]])\n",
        "\n",
        "unknown_entities = []\n",
        "for item in train_data:\n",
        "  if item[1] not in umls:\n",
        "    unknown_entities.append(item[1])\n",
        "\n",
        "unknown_entities = set(unknown_entities)\n",
        "print(f'There are {len(unknown_entities)} unknown enities in train set')\n",
        "\n",
        "\n",
        "dev_data = []\n",
        "for row in data:\n",
        "  tmp = row.split('\\t')\n",
        "  if len(tmp) == 6:\n",
        "    if tmp[0] in dev_pmids:\n",
        "      dev_data.append([tmp[3],tmp[-1].split(':')[1]])\n",
        "\n",
        "unknown_entities = []\n",
        "for item in dev_data:\n",
        "  if item[1] not in umls:\n",
        "    unknown_entities.append(item[1])\n",
        "\n",
        "unknown_entities = set(unknown_entities)\n",
        "print(f'There are {len(unknown_entities)} unknown enities in dev set')\n",
        "\n",
        "test_data = []\n",
        "for row in data:\n",
        "  tmp = row.split('\\t')\n",
        "  if len(tmp) == 6:\n",
        "    if tmp[0] in test_pmids:\n",
        "      test_data.append([tmp[3],tmp[-1].split(':')[1]])\n",
        "\n",
        "unknown_entities = []\n",
        "for item in test_data:\n",
        "  if item[1] not in umls:\n",
        "    unknown_entities.append(item[1])\n",
        "\n",
        "unknown_entities = set(unknown_entities)\n",
        "print(f'There are {len(unknown_entities)} unknown enities in test set')"
      ]
    },
    {
      "cell_type": "markdown",
      "metadata": {
        "id": "CMr43QOtJS_q"
      },
      "source": [
        "#### Load semantic type"
      ]
    },
    {
      "cell_type": "code",
      "execution_count": null,
      "metadata": {
        "id": "poPwZMpgj9jg"
      },
      "outputs": [],
      "source": [
        "with open('/content/drive/MyDrive/Dataset/UMLs/MRSTY.RRF') as f:\n",
        "  data = f.read().split('\\n')\n",
        "data = data[:-1]\n",
        "\n",
        "semantic_types = defaultdict(str)\n",
        "for row in data:\n",
        "  row = row.split('|')\n",
        "  semantic_types[row[0]] = row[-4]"
      ]
    },
    {
      "cell_type": "markdown",
      "metadata": {
        "id": "RM9S-IsoZeEq"
      },
      "source": [
        "### Process ST21pv"
      ]
    },
    {
      "cell_type": "markdown",
      "metadata": {
        "id": "J86whU6kG3-J"
      },
      "source": [
        "#### Load St21pv"
      ]
    },
    {
      "cell_type": "code",
      "execution_count": null,
      "metadata": {
        "id": "d6VqbsAXZhFj"
      },
      "outputs": [],
      "source": [
        "with open('/content/drive/MyDrive/Dataset/ST21pv/corpus_pubtator.txt') as f:\n",
        "  data = f.read().split('\\n\\n')\n",
        "data = data[:-1]\n",
        "\n",
        "corpus_st21pv = []\n",
        "\n",
        "for item in data:\n",
        "\n",
        "  arr = item.split('\\n')\n",
        "  id = arr[0].split('|')[0]\n",
        "  title = arr[0][11:]\n",
        "  abstract = arr[1][11:]\n",
        "\n",
        "  tmp = id + '\\n' + title + '\\n' + abstract + '\\n'\n",
        "\n",
        "  for row in arr[2:]:\n",
        "    splits = row.split('\\t')\n",
        "    tmp += '\\t'.join(splits[1:4] + [splits[5]]) + '\\n'\n",
        "  tmp = tmp[:-1]\n",
        "  corpus_st21pv.append(tmp)"
      ]
    },
    {
      "cell_type": "markdown",
      "metadata": {
        "id": "bJ_RjKp4frX3"
      },
      "source": [
        "### Delete overlapping mentions"
      ]
    },
    {
      "cell_type": "code",
      "execution_count": null,
      "metadata": {
        "colab": {
          "base_uri": "https://localhost:8080/"
        },
        "id": "B7-Of4NVdegP",
        "outputId": "3c1ddff5-adff-4d0a-bf9a-8dafb9aaa50c"
      },
      "outputs": [
        {
          "name": "stdout",
          "output_type": "stream",
          "text": [
            "404\n",
            "Have deleted 404 mentions\n"
          ]
        }
      ],
      "source": [
        "count = 0\n",
        "\n",
        "deleted_terms = []\n",
        "\n",
        "for item in corpus_st21pv:\n",
        "  arr = item.split('\\n')\n",
        "  \n",
        "  id = arr[0]\n",
        "  text = arr[1] + '\\n' + arr[2]\n",
        "  entities = arr[3:]\n",
        "\n",
        "  positions = []\n",
        "  for entity in entities:\n",
        "    splits = entity.split('\\t')\n",
        "    s = splits[0]\n",
        "    e = splits[1]\n",
        "    positions.append([s,e, splits[2], splits[3],id])\n",
        "  \n",
        "  i = 1\n",
        "  while i < len(positions):\n",
        "    if int(positions[i][0]) < int(positions[i-1][1]):\n",
        "      if int(positions[i][0]) == int(positions[i-1][0]) and int(positions[i-1][1]) < int(positions[i][1]):\n",
        "        count += 1\n",
        "        deleted_terms.append(positions[i-1])\n",
        "        positions.pop(i-1)\n",
        "        continue\n",
        "      else:\n",
        "        #if int(positions[i][0]) == int(positions[i-1][0]) and int(positions[i-1][1]) == int(positions[i][1]):\n",
        "        #  i+=1\n",
        "        #  continue\n",
        "        #else:\n",
        "        count += 1\n",
        "        deleted_terms.append(positions[i])\n",
        "        positions.pop(i)\n",
        "    else:\n",
        "      i += 1\n",
        "\n",
        "    \n",
        "\n",
        "new_corpus_st21pv = []\n",
        "count = 0\n",
        "term_deleted = []\n",
        "for item in corpus_st21pv:\n",
        "  arr = item.split('\\n')\n",
        "  id = arr[0]\n",
        "  \n",
        "  text = arr[1] + '\\n' + arr[2]\n",
        "  entities = arr[3:]\n",
        "  new_entities = []\n",
        "\n",
        "  for entity in entities:\n",
        "    splits = entity.split('\\t')\n",
        "    s = splits[0]\n",
        "    e = splits[1]\n",
        "    tmp = [s,e, splits[2], splits[3],id]\n",
        "    if tmp in deleted_terms:\n",
        "      count += 1\n",
        "      term_deleted.append(entity.split('\\t') + [id])\n",
        "      deleted_terms.remove(tmp)\n",
        "    else: \n",
        "      new_entities.append(entity)\n",
        "\n",
        "  tmp = id+ '\\n' + text + '\\n'\n",
        "  for i in new_entities:\n",
        "    tmp += i + '\\n'\n",
        "  tmp = tmp[:-1]\n",
        "  new_corpus_st21pv.append(tmp)\n",
        "\n",
        "print(f'Have deleted {count} mentions')\n",
        "corpus_st21pv = new_corpus_st21pv"
      ]
    },
    {
      "cell_type": "markdown",
      "metadata": {
        "id": "R2wcMhpXZYXp"
      },
      "source": [
        "### Detect abbreviations in ST21pv"
      ]
    },
    {
      "cell_type": "code",
      "execution_count": null,
      "metadata": {
        "id": "XTDb6p5MZZuW"
      },
      "outputs": [],
      "source": [
        "with open(\"/content/drive/MyDrive/Dataset/ST21pv/out.txt\") as f:\n",
        "  data = f.read().split('\\n\\n')"
      ]
    },
    {
      "cell_type": "code",
      "execution_count": null,
      "metadata": {
        "id": "Mfck9Q7xZmNi"
      },
      "outputs": [],
      "source": [
        "abbreviation_dict = defaultdict(list)\n",
        "\n",
        "for item in data:\n",
        "  arr = item.split('\\n')\n",
        "  id = arr[0]\n",
        "  for row in arr[1:]:\n",
        "    if '|' in row and len(row.split('|')) == 3:\n",
        "      row = row.split('|')\n",
        "      abbreviation_dict[id].append([row[0].replace('\\t',''), row[1]])"
      ]
    },
    {
      "cell_type": "markdown",
      "metadata": {
        "id": "rls3CUTRqIXw"
      },
      "source": [
        "### Replace abbreviations with long form"
      ]
    },
    {
      "cell_type": "code",
      "execution_count": null,
      "metadata": {
        "id": "guwNro1mw6i3"
      },
      "outputs": [],
      "source": [
        "corpus_st21pv_lf = []\n",
        "\n",
        "for item in corpus_st21pv:\n",
        "  arr = item.split('\\n')\n",
        "  id = arr[0]\n",
        "  \n",
        "  if id not in abbreviation_dict:\n",
        "    corpus_st21pv_lf.append(item)   \n",
        "    continue\n",
        "  \n",
        "  title = arr[1] + \".\"\n",
        "  len_title = len(title)\n",
        "\n",
        "  abstract = arr[2]\n",
        "  entities = arr[3:]\n",
        "\n",
        "  text = title + '\\n' + abstract\n",
        "  \n",
        "  list_entities = []\n",
        "\n",
        "  add = 0\n",
        "  flag = True\n",
        "  \n",
        "  for i,entity in enumerate(entities):\n",
        "    \n",
        "    entity = entity.split('\\t')\n",
        "    if i >= 1 and entities[i].split('\\t')[:-1] == entities[i-1].split('\\t')[:-1]:\n",
        "      tmp = '\\t'.join(list_entities[-1].split('\\t')[:-1]) + '\\t' + entity[-1] + '\\n'\n",
        "      list_entities.append(tmp)\n",
        "      continue\n",
        "    name = entity[2]\n",
        "    new_name = name\n",
        "    s = entity[0]\n",
        "    e = entity[1]\n",
        "    if int(s) >= len_title:\n",
        "      s = str(int(s) + 1)\n",
        "      e = str(int(s) + 1)\n",
        "\n",
        "    values = abbreviation_dict[id]\n",
        "    for pair in values:\n",
        "      if name == pair[0]:\n",
        "        new_name = pair[1]\n",
        "        break\n",
        "\n",
        "    if flag == False:\n",
        "      s = str(int(s) + add)\n",
        "    else:\n",
        "      flag = False\n",
        "  \n",
        "\n",
        "    text = text[:int(s)] + new_name + text[int(s)+len(name):] \n",
        "    add += len(new_name) - len(name)\n",
        "    e = str(int(s) + len(new_name))\n",
        "    list_entities.append(s+'\\t'+e+'\\t' + new_name +'\\t' + entity[-1] + '\\n')\n",
        "    #print(text)\n",
        "  tmp = id + '\\n' + text + '\\n'\n",
        "  for i in list_entities:\n",
        "    tmp += i\n",
        "  tmp = tmp[:-1]\n",
        "  corpus_st21pv_lf.append(tmp)\n",
        "  tmp = ''\n",
        "  list_entities = []\n"
      ]
    },
    {
      "cell_type": "markdown",
      "metadata": {
        "id": "htDQ2PLetb7q"
      },
      "source": [
        "#### Test"
      ]
    },
    {
      "cell_type": "code",
      "execution_count": null,
      "metadata": {
        "colab": {
          "base_uri": "https://localhost:8080/"
        },
        "id": "zvVFbxB0eLt5",
        "outputId": "ad49471d-539b-4771-ec62-080df8f3bd9f"
      },
      "outputs": [
        {
          "name": "stdout",
          "output_type": "stream",
          "text": [
            "25763772\n",
            "dynactin 4 as a modifier of chronic Pseudomonas aeruginosa infection in cystic fibrosis.\n",
            "Pseudomonas aeruginosa (Pa) infection in cystic fibrosis (cystic fibrosis) patients is associated with worse long-term pulmonary disease and shorter survival, and chronic Pa infection (chronic Pa infection) is associated with reduced lung function, faster rate of lung decline, increased rates of exacerbations and shorter survival. By using exome sequencing and extreme phenotype design, it was recently shown that isoforms of dynactin 4 (dynactin 4) may influence Pa infection in cystic fibrosis, leading to worse respiratory disease. The purpose of this study was to investigate the role of dynactin 4 missense variants on Pa infection incidence, age at first Pa infection and chronic Pa infection incidence in a cohort of adult cystic fibrosis patients from a single centre. Polymerase chain reaction and direct sequencing were used to screen DNA samples for dynactin 4 variants. A total of 121 adult cystic fibrosis patients from the Cochin Hospital CF centre have been included, all of them carrying two CFTR defects: 103 developed at least 1 pulmonary infection with Pseudomonas aeruginosa, and 68 patients of them had chronic Pa infection. dynactin 4 variants were identified in 24% (29/121) cystic fibrosis patients with Pa infection and in only 17% (3/18) cystic fibrosis patients with no Pa infection. Of the patients with chronic Pa infection, 29% (20/68) had dynactin 4 missense variants vs 23% (8/35) in patients without chronic Pa infection. Interestingly, p.Tyr263Cys tend to be more frequently observed in cystic fibrosis patients with chronic Pa infection than in patients without chronic Pa infection (4/68 vs 0/35), and dynactin 4 missense variants tend to be more frequent in male cystic fibrosis patients with chronic Pa infection bearing two class II mutations than in male cystic fibrosis patients without chronic Pa infection bearing two class II mutations (P = 0.06). Our observations reinforce that dynactin 4 missense variants, especially p.Tyr263Cys, may be involved in the pathogenesis of chronic Pa infection in male cystic fibrosis.\n",
            "0\t10\tdynactin 4\tUMLS:C4308010\n",
            "28\t68\tchronic Pseudomonas aeruginosa infection\tUMLS:C0854135\n",
            "72\t87\tcystic fibrosis\tUMLS:C0010674\n",
            "89\t126\tPseudomonas aeruginosa (Pa) infection\tUMLS:C0854135\n",
            "130\t145\tcystic fibrosis\tUMLS:C0010674\n",
            "147\t162\tcystic fibrosis\tUMLS:C0010674\n",
            "208\t225\tpulmonary disease\tUMLS:C0024115\n",
            "252\t272\tchronic Pa infection\tUMLS:C0854135\n",
            "274\t294\tchronic Pa infection\tUMLS:C0854135\n",
            "338\t365\tfaster rate of lung decline\tUMLS:C3160731\n",
            "386\t399\texacerbations\tUMLS:C4086268\n",
            "431\t447\texome sequencing\tUMLS:C3640077\n",
            "505\t513\tisoforms\tUMLS:C0597298\n",
            "517\t527\tdynactin 4\tUMLS:C4308010\n",
            "529\t539\tdynactin 4\tUMLS:C4308010\n",
            "555\t567\tPa infection\tUMLS:C0854135\n",
            "571\t586\tcystic fibrosis\tUMLS:C0010674\n",
            "605\t624\trespiratory disease\tUMLS:C0035204\n",
            "646\t651\tstudy\tUMLS:C2603343\n",
            "683\t693\tdynactin 4\tUMLS:C4308010\n",
            "703\t711\tvariants\tUMLS:C0597298\n",
            "715\t727\tPa infection\tUMLS:C0854135\n",
            "752\t764\tPa infection\tUMLS:C0854135\n",
            "769\t789\tchronic Pa infection\tUMLS:C0854135\n",
            "805\t811\tcohort\tUMLS:C0599755\n",
            "821\t836\tcystic fibrosis\tUMLS:C0010674\n",
            "860\t866\tcentre\tUMLS:C0475309\n",
            "868\t893\tPolymerase chain reaction\tUMLS:C0032520\n",
            "898\t915\tdirect sequencing\tUMLS:C3899368\n",
            "936\t947\tDNA samples\tUMLS:C0444245\n",
            "952\t962\tdynactin 4\tUMLS:C4308010\n",
            "963\t971\tvariants\tUMLS:C0597298\n",
            "994\t1009\tcystic fibrosis\tUMLS:C0010674\n",
            "1028\t1053\tCochin Hospital CF centre\tUMLS:C0019994\n",
            "1099\t1103\tCFTR\tUMLS:C1413365\n",
            "1138\t1157\tpulmonary infection\tUMLS:C0876973\n",
            "1163\t1185\tPseudomonas aeruginosa\tUMLS:C0033809\n",
            "1215\t1235\tchronic Pa infection\tUMLS:C0854135\n",
            "1237\t1247\tdynactin 4\tUMLS:C4308010\n",
            "1248\t1256\tvariants\tUMLS:C0597298\n",
            "1289\t1304\tcystic fibrosis\tUMLS:C0010674\n",
            "1319\t1331\tPa infection\tUMLS:C0854135\n",
            "1355\t1370\tcystic fibrosis\tUMLS:C0010674\n",
            "1388\t1400\tPa infection\tUMLS:C0854135\n",
            "1423\t1443\tchronic Pa infection\tUMLS:C0854135\n",
            "1461\t1471\tdynactin 4\tUMLS:C4308010\n",
            "1481\t1489\tvariants\tUMLS:C0597298\n",
            "1524\t1544\tchronic Pa infection\tUMLS:C0854135\n",
            "1561\t1572\tp.Tyr263Cys\tUMLS:C0597298\n",
            "1612\t1627\tcystic fibrosis\tUMLS:C0010674\n",
            "1642\t1662\tchronic Pa infection\tUMLS:C0854135\n",
            "1688\t1708\tchronic Pa infection\tUMLS:C0854135\n",
            "1729\t1739\tdynactin 4\tUMLS:C4308010\n",
            "1749\t1757\tvariants\tUMLS:C0597298\n",
            "1791\t1806\tcystic fibrosis\tUMLS:C0010674\n",
            "1821\t1841\tchronic Pa infection\tUMLS:C0854135\n",
            "1854\t1872\tclass II mutations\tUMLS:C0026882\n",
            "1886\t1901\tcystic fibrosis\tUMLS:C0010674\n",
            "1919\t1939\tchronic Pa infection\tUMLS:C0854135\n",
            "1952\t1970\tclass II mutations\tUMLS:C0026882\n",
            "2015\t2025\tdynactin 4\tUMLS:C4308010\n",
            "2035\t2043\tvariants\tUMLS:C0597298\n",
            "2056\t2067\tp.Tyr263Cys\tUMLS:C0597298\n",
            "2092\t2104\tpathogenesis\tUMLS:C0699748\n",
            "2108\t2128\tchronic Pa infection\tUMLS:C0854135\n",
            "2137\t2152\tcystic fibrosis\tUMLS:C0010674\n",
            "--------------------------------\n",
            "0 \t 10 \t dynactin 4 \t dynactin 4\n",
            "28 \t 68 \t chronic Pseudomonas aeruginosa infection \t chronic Pseudomonas aeruginosa infection\n",
            "72 \t 87 \t cystic fibrosis \t cystic fibrosis\n",
            "89 \t 126 \t Pseudomonas aeruginosa (Pa) infection \t Pseudomonas aeruginosa (Pa) infection\n",
            "130 \t 145 \t cystic fibrosis \t cystic fibrosis\n",
            "147 \t 162 \t cystic fibrosis \t cystic fibrosis\n",
            "208 \t 225 \t pulmonary disease \t pulmonary disease\n",
            "252 \t 272 \t chronic Pa infection \t chronic Pa infection\n",
            "274 \t 294 \t chronic Pa infection \t chronic Pa infection\n",
            "338 \t 365 \t faster rate of lung decline \t faster rate of lung decline\n",
            "386 \t 399 \t exacerbations \t exacerbations\n",
            "431 \t 447 \t exome sequencing \t exome sequencing\n",
            "505 \t 513 \t isoforms \t isoforms\n",
            "517 \t 527 \t dynactin 4 \t dynactin 4\n",
            "529 \t 539 \t dynactin 4 \t dynactin 4\n",
            "555 \t 567 \t Pa infection \t Pa infection\n",
            "571 \t 586 \t cystic fibrosis \t cystic fibrosis\n",
            "605 \t 624 \t respiratory disease \t respiratory disease\n",
            "646 \t 651 \t study \t study\n",
            "683 \t 693 \t dynactin 4 \t dynactin 4\n",
            "703 \t 711 \t variants \t variants\n",
            "715 \t 727 \t Pa infection \t Pa infection\n",
            "752 \t 764 \t Pa infection \t Pa infection\n",
            "769 \t 789 \t chronic Pa infection \t chronic Pa infection\n",
            "805 \t 811 \t cohort \t cohort\n",
            "821 \t 836 \t cystic fibrosis \t cystic fibrosis\n",
            "860 \t 866 \t centre \t centre\n",
            "868 \t 893 \t Polymerase chain reaction \t Polymerase chain reaction\n",
            "898 \t 915 \t direct sequencing \t direct sequencing\n",
            "936 \t 947 \t DNA samples \t DNA samples\n",
            "952 \t 962 \t dynactin 4 \t dynactin 4\n",
            "963 \t 971 \t variants \t variants\n",
            "994 \t 1009 \t cystic fibrosis \t cystic fibrosis\n",
            "1028 \t 1053 \t Cochin Hospital CF centre \t Cochin Hospital CF centre\n",
            "1099 \t 1103 \t CFTR \t CFTR\n",
            "1138 \t 1157 \t pulmonary infection \t pulmonary infection\n",
            "1163 \t 1185 \t Pseudomonas aeruginosa \t Pseudomonas aeruginosa\n",
            "1215 \t 1235 \t chronic Pa infection \t chronic Pa infection\n",
            "1237 \t 1247 \t dynactin 4 \t dynactin 4\n",
            "1248 \t 1256 \t variants \t variants\n",
            "1289 \t 1304 \t cystic fibrosis \t cystic fibrosis\n",
            "1319 \t 1331 \t Pa infection \t Pa infection\n",
            "1355 \t 1370 \t cystic fibrosis \t cystic fibrosis\n",
            "1388 \t 1400 \t Pa infection \t Pa infection\n",
            "1423 \t 1443 \t chronic Pa infection \t chronic Pa infection\n",
            "1461 \t 1471 \t dynactin 4 \t dynactin 4\n",
            "1481 \t 1489 \t variants \t variants\n",
            "1524 \t 1544 \t chronic Pa infection \t chronic Pa infection\n",
            "1561 \t 1572 \t p.Tyr263Cys \t p.Tyr263Cys\n",
            "1612 \t 1627 \t cystic fibrosis \t cystic fibrosis\n",
            "1642 \t 1662 \t chronic Pa infection \t chronic Pa infection\n",
            "1688 \t 1708 \t chronic Pa infection \t chronic Pa infection\n",
            "1729 \t 1739 \t dynactin 4 \t dynactin 4\n",
            "1749 \t 1757 \t variants \t variants\n",
            "1791 \t 1806 \t cystic fibrosis \t cystic fibrosis\n",
            "1821 \t 1841 \t chronic Pa infection \t chronic Pa infection\n",
            "1854 \t 1872 \t class II mutations \t class II mutations\n",
            "1886 \t 1901 \t cystic fibrosis \t cystic fibrosis\n",
            "1919 \t 1939 \t chronic Pa infection \t chronic Pa infection\n",
            "1952 \t 1970 \t class II mutations \t class II mutations\n",
            "2015 \t 2025 \t dynactin 4 \t dynactin 4\n",
            "2035 \t 2043 \t variants \t variants\n",
            "2056 \t 2067 \t p.Tyr263Cys \t p.Tyr263Cys\n",
            "2092 \t 2104 \t pathogenesis \t pathogenesis\n",
            "2108 \t 2128 \t chronic Pa infection \t chronic Pa infection\n",
            "2137 \t 2152 \t cystic fibrosis \t cystic fibrosis\n"
          ]
        }
      ],
      "source": [
        "t = corpus_st21pv_lf[0]\n",
        "print(t)\n",
        "\n",
        "text = t.split('\\n')[1] + '\\n' + t.split('\\n')[2]\n",
        "entities = t.split('\\n')[3:]\n",
        "\n",
        "print('--------------------------------')\n",
        "for entity in entities:\n",
        "  entity = entity.split('\\t')\n",
        "  print(entity[0],'\\t',entity[1], '\\t', text[int(entity[0]): int(entity[1])], '\\t', entity[2])"
      ]
    },
    {
      "cell_type": "markdown",
      "metadata": {
        "id": "r5oKbPwAtgFw"
      },
      "source": [
        "#### Check"
      ]
    },
    {
      "cell_type": "code",
      "execution_count": null,
      "metadata": {
        "id": "Ldf7BLnl2NMV"
      },
      "outputs": [],
      "source": [
        "def check_abbreviation_replace_correct(corpus):\n",
        "  flag = True\n",
        "  for i,item in enumerate(corpus):\n",
        "    arr = item.split('\\n')\n",
        "    text = arr[1] + '\\n' + arr[2]\n",
        "    entities = arr[3:]\n",
        "    id = arr[0]\n",
        "\n",
        "    for entity in entities:\n",
        "      tmp = entity.split('\\t')\n",
        "      s = int(tmp[0])\n",
        "      e = int(tmp[1])\n",
        "      name = tmp[2]\n",
        "\n",
        "      if text[s:e] != name:\n",
        "        flag = False\n",
        "        print(s,'\\t',e,i)\n",
        "  \n",
        "  if flag == True:\n",
        "    print('There is no error detected!')"
      ]
    },
    {
      "cell_type": "code",
      "execution_count": null,
      "metadata": {
        "colab": {
          "base_uri": "https://localhost:8080/"
        },
        "id": "ShUp4zPP3D6f",
        "outputId": "bf512a94-fa74-4d23-c4db-74b474268616"
      },
      "outputs": [
        {
          "name": "stdout",
          "output_type": "stream",
          "text": [
            "There is no error detected!\n"
          ]
        }
      ],
      "source": [
        "check_abbreviation_replace_correct(corpus_st21pv_lf)"
      ]
    },
    {
      "cell_type": "code",
      "execution_count": null,
      "metadata": {
        "id": "cI1dhwbOBZV1"
      },
      "outputs": [],
      "source": [
        "with open(\"/content/drive/MyDrive/models/clustering_based_inference_bio_entity_linking/all_mentions.txt\", 'w') as f:\n",
        "  for item in corpus_st21pv_lf:\n",
        "    rows = item.split('\\n')\n",
        "    entities = rows[3:]\n",
        "\n",
        "    for entity in entities:\n",
        "      entity = entity.split('\\t')\n",
        "      f.write(rows[0] + '||' + entity[2] + '||' + entity[-1].split(':')[-1] + '\\n')"
      ]
    },
    {
      "cell_type": "markdown",
      "metadata": {
        "id": "7AZkZzIw54dX"
      },
      "source": [
        "### Convert to IOB2 format"
      ]
    },
    {
      "cell_type": "code",
      "execution_count": null,
      "metadata": {
        "colab": {
          "base_uri": "https://localhost:8080/"
        },
        "id": "ujWrI8tFTIi5",
        "outputId": "0d4ae4dc-2d0d-4828-c3d4-44116af66b3b"
      },
      "outputs": [
        {
          "name": "stderr",
          "output_type": "stream",
          "text": [
            "100%|██████████| 4392/4392 [02:12<00:00, 33.18it/s]\n"
          ]
        }
      ],
      "source": [
        "IOB2_tags = defaultdict(list)\n",
        "count = 0\n",
        "for item in tqdm(corpus_st21pv_lf):\n",
        "  arr = item.split('\\n') \n",
        "  id = arr[0]\n",
        "  text = arr[1] + '\\n' + arr[2]\n",
        "  entities = arr[3:]\n",
        "\n",
        "  list_entities = []\n",
        "  for entity in entities:\n",
        "    splits = entity.split('\\t')\n",
        "    s = int(splits[0])\n",
        "    e = int(splits[1])\n",
        "    name = splits[2]\n",
        "    cui = splits[3].split(':')[1]\n",
        "\n",
        "    list_entities.append([s,e,name, cui])\n",
        "\n",
        "  doc = st(text)\n",
        "\n",
        "  list_sents = []\n",
        "\n",
        "\n",
        "  for sentence in doc.sentences:\n",
        "    list_tokens = []\n",
        "    exist_mention = False\n",
        "    for token in sentence.tokens:\n",
        "      string = token.text\n",
        "      start_c = token.start_char\n",
        "      end_c = token.end_char\n",
        "\n",
        "      flag = False\n",
        "      for entity in list_entities:\n",
        "        if entity[0] == start_c:\n",
        "          count += 1\n",
        "          flag = True\n",
        "          list_tokens.append([string, 'B:'+ entity[-1]])\n",
        "          exist_mention = True\n",
        "          break\n",
        "        elif entity[0] < start_c and entity[1] > start_c:\n",
        "          exist_mention = True\n",
        "          flag = True\n",
        "          list_tokens.append([string, 'I:'+ entity[-1]])\n",
        "          break\n",
        "      if flag==False:\n",
        "        list_tokens.append([string, 'O'])\n",
        "    \n",
        "    if exist_mention == True:\n",
        "      list_sents.append(list_tokens)\n",
        "  IOB2_tags[id] = list_sents"
      ]
    },
    {
      "cell_type": "code",
      "execution_count": null,
      "metadata": {
        "id": "ykZKUjw5YYL-"
      },
      "outputs": [],
      "source": [
        "with open(\"/content/drive/MyDrive/Dataset/ST21pv/IOB2_tags.txt\", 'w') as f:\n",
        "  for key, values in IOB2_tags.items(): # sentences\n",
        "    f.write(key + '\\n')\n",
        "    \n",
        "    for sentence in values:\n",
        "      for token in sentence:\n",
        "        f.write(token[0] + '\\t' + token[1] + '\\n')\n",
        "      f.write('\\n')  \n",
        "    f.write('\\n')"
      ]
    }
  ],
  "metadata": {
    "accelerator": "GPU",
    "colab": {
      "collapsed_sections": [
        "s66EQu2ZClN3",
        "_pZt1dWgW7AE",
        "6znjebdSaDlX",
        "RM9S-IsoZeEq",
        "J86whU6kG3-J",
        "bJ_RjKp4frX3",
        "R2wcMhpXZYXp",
        "rls3CUTRqIXw",
        "7AZkZzIw54dX",
        "JEAQ7Z4S590N"
      ],
      "machine_shape": "hm",
      "provenance": []
    },
    "gpuClass": "premium",
    "kernelspec": {
      "display_name": "Python 3",
      "name": "python3"
    },
    "language_info": {
      "name": "python"
    },
    "widgets": {
      "application/vnd.jupyter.widget-state+json": {
        "05efe16af5ac4e53afc1db39b0a2e873": {
          "model_module": "@jupyter-widgets/controls",
          "model_module_version": "1.5.0",
          "model_name": "DescriptionStyleModel",
          "state": {
            "_model_module": "@jupyter-widgets/controls",
            "_model_module_version": "1.5.0",
            "_model_name": "DescriptionStyleModel",
            "_view_count": null,
            "_view_module": "@jupyter-widgets/base",
            "_view_module_version": "1.2.0",
            "_view_name": "StyleView",
            "description_width": ""
          }
        },
        "0cf2bdfef96c4357a530c6dda93044b1": {
          "model_module": "@jupyter-widgets/base",
          "model_module_version": "1.2.0",
          "model_name": "LayoutModel",
          "state": {
            "_model_module": "@jupyter-widgets/base",
            "_model_module_version": "1.2.0",
            "_model_name": "LayoutModel",
            "_view_count": null,
            "_view_module": "@jupyter-widgets/base",
            "_view_module_version": "1.2.0",
            "_view_name": "LayoutView",
            "align_content": null,
            "align_items": null,
            "align_self": null,
            "border": null,
            "bottom": null,
            "display": null,
            "flex": null,
            "flex_flow": null,
            "grid_area": null,
            "grid_auto_columns": null,
            "grid_auto_flow": null,
            "grid_auto_rows": null,
            "grid_column": null,
            "grid_gap": null,
            "grid_row": null,
            "grid_template_areas": null,
            "grid_template_columns": null,
            "grid_template_rows": null,
            "height": null,
            "justify_content": null,
            "justify_items": null,
            "left": null,
            "margin": null,
            "max_height": null,
            "max_width": null,
            "min_height": null,
            "min_width": null,
            "object_fit": null,
            "object_position": null,
            "order": null,
            "overflow": null,
            "overflow_x": null,
            "overflow_y": null,
            "padding": null,
            "right": null,
            "top": null,
            "visibility": null,
            "width": null
          }
        },
        "16662c2715544c1797ac57ef83b43373": {
          "model_module": "@jupyter-widgets/controls",
          "model_module_version": "1.5.0",
          "model_name": "DescriptionStyleModel",
          "state": {
            "_model_module": "@jupyter-widgets/controls",
            "_model_module_version": "1.5.0",
            "_model_name": "DescriptionStyleModel",
            "_view_count": null,
            "_view_module": "@jupyter-widgets/base",
            "_view_module_version": "1.2.0",
            "_view_name": "StyleView",
            "description_width": ""
          }
        },
        "1bbc55dda3a14432b5e0092840991f43": {
          "model_module": "@jupyter-widgets/base",
          "model_module_version": "1.2.0",
          "model_name": "LayoutModel",
          "state": {
            "_model_module": "@jupyter-widgets/base",
            "_model_module_version": "1.2.0",
            "_model_name": "LayoutModel",
            "_view_count": null,
            "_view_module": "@jupyter-widgets/base",
            "_view_module_version": "1.2.0",
            "_view_name": "LayoutView",
            "align_content": null,
            "align_items": null,
            "align_self": null,
            "border": null,
            "bottom": null,
            "display": null,
            "flex": null,
            "flex_flow": null,
            "grid_area": null,
            "grid_auto_columns": null,
            "grid_auto_flow": null,
            "grid_auto_rows": null,
            "grid_column": null,
            "grid_gap": null,
            "grid_row": null,
            "grid_template_areas": null,
            "grid_template_columns": null,
            "grid_template_rows": null,
            "height": null,
            "justify_content": null,
            "justify_items": null,
            "left": null,
            "margin": null,
            "max_height": null,
            "max_width": null,
            "min_height": null,
            "min_width": null,
            "object_fit": null,
            "object_position": null,
            "order": null,
            "overflow": null,
            "overflow_x": null,
            "overflow_y": null,
            "padding": null,
            "right": null,
            "top": null,
            "visibility": null,
            "width": null
          }
        },
        "21894e29ca0e4ae58d89d71249a44371": {
          "model_module": "@jupyter-widgets/controls",
          "model_module_version": "1.5.0",
          "model_name": "HTMLModel",
          "state": {
            "_dom_classes": [],
            "_model_module": "@jupyter-widgets/controls",
            "_model_module_version": "1.5.0",
            "_model_name": "HTMLModel",
            "_view_count": null,
            "_view_module": "@jupyter-widgets/controls",
            "_view_module_version": "1.5.0",
            "_view_name": "HTMLView",
            "description": "",
            "description_tooltip": null,
            "layout": "IPY_MODEL_aa171099b3ea45a2b40c6f6334203875",
            "placeholder": "​",
            "style": "IPY_MODEL_352d34808d4a4b30b51cff8c191e2d7f",
            "value": " 193k/? [00:00&lt;00:00, 4.10MB/s]"
          }
        },
        "29738854edca426ea10385cfcf409d26": {
          "model_module": "@jupyter-widgets/base",
          "model_module_version": "1.2.0",
          "model_name": "LayoutModel",
          "state": {
            "_model_module": "@jupyter-widgets/base",
            "_model_module_version": "1.2.0",
            "_model_name": "LayoutModel",
            "_view_count": null,
            "_view_module": "@jupyter-widgets/base",
            "_view_module_version": "1.2.0",
            "_view_name": "LayoutView",
            "align_content": null,
            "align_items": null,
            "align_self": null,
            "border": null,
            "bottom": null,
            "display": null,
            "flex": null,
            "flex_flow": null,
            "grid_area": null,
            "grid_auto_columns": null,
            "grid_auto_flow": null,
            "grid_auto_rows": null,
            "grid_column": null,
            "grid_gap": null,
            "grid_row": null,
            "grid_template_areas": null,
            "grid_template_columns": null,
            "grid_template_rows": null,
            "height": null,
            "justify_content": null,
            "justify_items": null,
            "left": null,
            "margin": null,
            "max_height": null,
            "max_width": null,
            "min_height": null,
            "min_width": null,
            "object_fit": null,
            "object_position": null,
            "order": null,
            "overflow": null,
            "overflow_x": null,
            "overflow_y": null,
            "padding": null,
            "right": null,
            "top": null,
            "visibility": null,
            "width": null
          }
        },
        "2b0da0161106451cbee66e1ab7ba997c": {
          "model_module": "@jupyter-widgets/base",
          "model_module_version": "1.2.0",
          "model_name": "LayoutModel",
          "state": {
            "_model_module": "@jupyter-widgets/base",
            "_model_module_version": "1.2.0",
            "_model_name": "LayoutModel",
            "_view_count": null,
            "_view_module": "@jupyter-widgets/base",
            "_view_module_version": "1.2.0",
            "_view_name": "LayoutView",
            "align_content": null,
            "align_items": null,
            "align_self": null,
            "border": null,
            "bottom": null,
            "display": null,
            "flex": null,
            "flex_flow": null,
            "grid_area": null,
            "grid_auto_columns": null,
            "grid_auto_flow": null,
            "grid_auto_rows": null,
            "grid_column": null,
            "grid_gap": null,
            "grid_row": null,
            "grid_template_areas": null,
            "grid_template_columns": null,
            "grid_template_rows": null,
            "height": null,
            "justify_content": null,
            "justify_items": null,
            "left": null,
            "margin": null,
            "max_height": null,
            "max_width": null,
            "min_height": null,
            "min_width": null,
            "object_fit": null,
            "object_position": null,
            "order": null,
            "overflow": null,
            "overflow_x": null,
            "overflow_y": null,
            "padding": null,
            "right": null,
            "top": null,
            "visibility": null,
            "width": null
          }
        },
        "2b745550e3b64a79b046aa70f7af8be2": {
          "model_module": "@jupyter-widgets/controls",
          "model_module_version": "1.5.0",
          "model_name": "HTMLModel",
          "state": {
            "_dom_classes": [],
            "_model_module": "@jupyter-widgets/controls",
            "_model_module_version": "1.5.0",
            "_model_name": "HTMLModel",
            "_view_count": null,
            "_view_module": "@jupyter-widgets/controls",
            "_view_module_version": "1.5.0",
            "_view_name": "HTMLView",
            "description": "",
            "description_tooltip": null,
            "layout": "IPY_MODEL_2b0da0161106451cbee66e1ab7ba997c",
            "placeholder": "​",
            "style": "IPY_MODEL_05efe16af5ac4e53afc1db39b0a2e873",
            "value": " 193k/? [00:00&lt;00:00, 2.18MB/s]"
          }
        },
        "352d34808d4a4b30b51cff8c191e2d7f": {
          "model_module": "@jupyter-widgets/controls",
          "model_module_version": "1.5.0",
          "model_name": "DescriptionStyleModel",
          "state": {
            "_model_module": "@jupyter-widgets/controls",
            "_model_module_version": "1.5.0",
            "_model_name": "DescriptionStyleModel",
            "_view_count": null,
            "_view_module": "@jupyter-widgets/base",
            "_view_module_version": "1.2.0",
            "_view_name": "StyleView",
            "description_width": ""
          }
        },
        "3f88a64fb1544d1aa5215eade8d17005": {
          "model_module": "@jupyter-widgets/base",
          "model_module_version": "1.2.0",
          "model_name": "LayoutModel",
          "state": {
            "_model_module": "@jupyter-widgets/base",
            "_model_module_version": "1.2.0",
            "_model_name": "LayoutModel",
            "_view_count": null,
            "_view_module": "@jupyter-widgets/base",
            "_view_module_version": "1.2.0",
            "_view_name": "LayoutView",
            "align_content": null,
            "align_items": null,
            "align_self": null,
            "border": null,
            "bottom": null,
            "display": null,
            "flex": null,
            "flex_flow": null,
            "grid_area": null,
            "grid_auto_columns": null,
            "grid_auto_flow": null,
            "grid_auto_rows": null,
            "grid_column": null,
            "grid_gap": null,
            "grid_row": null,
            "grid_template_areas": null,
            "grid_template_columns": null,
            "grid_template_rows": null,
            "height": null,
            "justify_content": null,
            "justify_items": null,
            "left": null,
            "margin": null,
            "max_height": null,
            "max_width": null,
            "min_height": null,
            "min_width": null,
            "object_fit": null,
            "object_position": null,
            "order": null,
            "overflow": null,
            "overflow_x": null,
            "overflow_y": null,
            "padding": null,
            "right": null,
            "top": null,
            "visibility": null,
            "width": null
          }
        },
        "418f2a81cd3a4c94b51d32b45baf4068": {
          "model_module": "@jupyter-widgets/controls",
          "model_module_version": "1.5.0",
          "model_name": "FloatProgressModel",
          "state": {
            "_dom_classes": [],
            "_model_module": "@jupyter-widgets/controls",
            "_model_module_version": "1.5.0",
            "_model_name": "FloatProgressModel",
            "_view_count": null,
            "_view_module": "@jupyter-widgets/controls",
            "_view_module_version": "1.5.0",
            "_view_name": "ProgressView",
            "bar_style": "success",
            "description": "",
            "description_tooltip": null,
            "layout": "IPY_MODEL_52970c682fb94def9162f88db56f1e28",
            "max": 28918,
            "min": 0,
            "orientation": "horizontal",
            "style": "IPY_MODEL_cceaa8fbcaae4e59a657a8a34ef1fc01",
            "value": 28918
          }
        },
        "46c541a69e51433fabfa3fd5bbc47963": {
          "model_module": "@jupyter-widgets/controls",
          "model_module_version": "1.5.0",
          "model_name": "HBoxModel",
          "state": {
            "_dom_classes": [],
            "_model_module": "@jupyter-widgets/controls",
            "_model_module_version": "1.5.0",
            "_model_name": "HBoxModel",
            "_view_count": null,
            "_view_module": "@jupyter-widgets/controls",
            "_view_module_version": "1.5.0",
            "_view_name": "HBoxView",
            "box_style": "",
            "children": [
              "IPY_MODEL_eef155927dc148028555b83019fe899f",
              "IPY_MODEL_c7f10ef9175b4d5fb3b00a83c9ce5d03",
              "IPY_MODEL_dae79ab5ecd3412e97f918f1dea3c5b1"
            ],
            "layout": "IPY_MODEL_52d09b64b3a44fad9db8864ad307f5c5"
          }
        },
        "51cece287d2241b1868bc93af7aa3300": {
          "model_module": "@jupyter-widgets/base",
          "model_module_version": "1.2.0",
          "model_name": "LayoutModel",
          "state": {
            "_model_module": "@jupyter-widgets/base",
            "_model_module_version": "1.2.0",
            "_model_name": "LayoutModel",
            "_view_count": null,
            "_view_module": "@jupyter-widgets/base",
            "_view_module_version": "1.2.0",
            "_view_name": "LayoutView",
            "align_content": null,
            "align_items": null,
            "align_self": null,
            "border": null,
            "bottom": null,
            "display": null,
            "flex": null,
            "flex_flow": null,
            "grid_area": null,
            "grid_auto_columns": null,
            "grid_auto_flow": null,
            "grid_auto_rows": null,
            "grid_column": null,
            "grid_gap": null,
            "grid_row": null,
            "grid_template_areas": null,
            "grid_template_columns": null,
            "grid_template_rows": null,
            "height": null,
            "justify_content": null,
            "justify_items": null,
            "left": null,
            "margin": null,
            "max_height": null,
            "max_width": null,
            "min_height": null,
            "min_width": null,
            "object_fit": null,
            "object_position": null,
            "order": null,
            "overflow": null,
            "overflow_x": null,
            "overflow_y": null,
            "padding": null,
            "right": null,
            "top": null,
            "visibility": null,
            "width": null
          }
        },
        "52970c682fb94def9162f88db56f1e28": {
          "model_module": "@jupyter-widgets/base",
          "model_module_version": "1.2.0",
          "model_name": "LayoutModel",
          "state": {
            "_model_module": "@jupyter-widgets/base",
            "_model_module_version": "1.2.0",
            "_model_name": "LayoutModel",
            "_view_count": null,
            "_view_module": "@jupyter-widgets/base",
            "_view_module_version": "1.2.0",
            "_view_name": "LayoutView",
            "align_content": null,
            "align_items": null,
            "align_self": null,
            "border": null,
            "bottom": null,
            "display": null,
            "flex": null,
            "flex_flow": null,
            "grid_area": null,
            "grid_auto_columns": null,
            "grid_auto_flow": null,
            "grid_auto_rows": null,
            "grid_column": null,
            "grid_gap": null,
            "grid_row": null,
            "grid_template_areas": null,
            "grid_template_columns": null,
            "grid_template_rows": null,
            "height": null,
            "justify_content": null,
            "justify_items": null,
            "left": null,
            "margin": null,
            "max_height": null,
            "max_width": null,
            "min_height": null,
            "min_width": null,
            "object_fit": null,
            "object_position": null,
            "order": null,
            "overflow": null,
            "overflow_x": null,
            "overflow_y": null,
            "padding": null,
            "right": null,
            "top": null,
            "visibility": null,
            "width": null
          }
        },
        "52d09b64b3a44fad9db8864ad307f5c5": {
          "model_module": "@jupyter-widgets/base",
          "model_module_version": "1.2.0",
          "model_name": "LayoutModel",
          "state": {
            "_model_module": "@jupyter-widgets/base",
            "_model_module_version": "1.2.0",
            "_model_name": "LayoutModel",
            "_view_count": null,
            "_view_module": "@jupyter-widgets/base",
            "_view_module_version": "1.2.0",
            "_view_name": "LayoutView",
            "align_content": null,
            "align_items": null,
            "align_self": null,
            "border": null,
            "bottom": null,
            "display": null,
            "flex": null,
            "flex_flow": null,
            "grid_area": null,
            "grid_auto_columns": null,
            "grid_auto_flow": null,
            "grid_auto_rows": null,
            "grid_column": null,
            "grid_gap": null,
            "grid_row": null,
            "grid_template_areas": null,
            "grid_template_columns": null,
            "grid_template_rows": null,
            "height": null,
            "justify_content": null,
            "justify_items": null,
            "left": null,
            "margin": null,
            "max_height": null,
            "max_width": null,
            "min_height": null,
            "min_width": null,
            "object_fit": null,
            "object_position": null,
            "order": null,
            "overflow": null,
            "overflow_x": null,
            "overflow_y": null,
            "padding": null,
            "right": null,
            "top": null,
            "visibility": null,
            "width": null
          }
        },
        "65ca8b5fdac34d759690f1817497977b": {
          "model_module": "@jupyter-widgets/controls",
          "model_module_version": "1.5.0",
          "model_name": "DescriptionStyleModel",
          "state": {
            "_model_module": "@jupyter-widgets/controls",
            "_model_module_version": "1.5.0",
            "_model_name": "DescriptionStyleModel",
            "_view_count": null,
            "_view_module": "@jupyter-widgets/base",
            "_view_module_version": "1.2.0",
            "_view_name": "StyleView",
            "description_width": ""
          }
        },
        "6e27936c90a045f0b0c4b30c6906a866": {
          "model_module": "@jupyter-widgets/controls",
          "model_module_version": "1.5.0",
          "model_name": "DescriptionStyleModel",
          "state": {
            "_model_module": "@jupyter-widgets/controls",
            "_model_module_version": "1.5.0",
            "_model_name": "DescriptionStyleModel",
            "_view_count": null,
            "_view_module": "@jupyter-widgets/base",
            "_view_module_version": "1.2.0",
            "_view_name": "StyleView",
            "description_width": ""
          }
        },
        "6f3715d6823a4aaeb5ae1ce8408be1ec": {
          "model_module": "@jupyter-widgets/controls",
          "model_module_version": "1.5.0",
          "model_name": "HTMLModel",
          "state": {
            "_dom_classes": [],
            "_model_module": "@jupyter-widgets/controls",
            "_model_module_version": "1.5.0",
            "_model_name": "HTMLModel",
            "_view_count": null,
            "_view_module": "@jupyter-widgets/controls",
            "_view_module_version": "1.5.0",
            "_view_name": "HTMLView",
            "description": "",
            "description_tooltip": null,
            "layout": "IPY_MODEL_51cece287d2241b1868bc93af7aa3300",
            "placeholder": "​",
            "style": "IPY_MODEL_65ca8b5fdac34d759690f1817497977b",
            "value": "Downloading https://raw.githubusercontent.com/stanfordnlp/stanza-resources/main/resources_1.4.1.json: "
          }
        },
        "7263388e0dc54c588bc9a89a7358aa85": {
          "model_module": "@jupyter-widgets/base",
          "model_module_version": "1.2.0",
          "model_name": "LayoutModel",
          "state": {
            "_model_module": "@jupyter-widgets/base",
            "_model_module_version": "1.2.0",
            "_model_name": "LayoutModel",
            "_view_count": null,
            "_view_module": "@jupyter-widgets/base",
            "_view_module_version": "1.2.0",
            "_view_name": "LayoutView",
            "align_content": null,
            "align_items": null,
            "align_self": null,
            "border": null,
            "bottom": null,
            "display": null,
            "flex": null,
            "flex_flow": null,
            "grid_area": null,
            "grid_auto_columns": null,
            "grid_auto_flow": null,
            "grid_auto_rows": null,
            "grid_column": null,
            "grid_gap": null,
            "grid_row": null,
            "grid_template_areas": null,
            "grid_template_columns": null,
            "grid_template_rows": null,
            "height": null,
            "justify_content": null,
            "justify_items": null,
            "left": null,
            "margin": null,
            "max_height": null,
            "max_width": null,
            "min_height": null,
            "min_width": null,
            "object_fit": null,
            "object_position": null,
            "order": null,
            "overflow": null,
            "overflow_x": null,
            "overflow_y": null,
            "padding": null,
            "right": null,
            "top": null,
            "visibility": null,
            "width": null
          }
        },
        "733fda8f495643ada2b51460ecf3785a": {
          "model_module": "@jupyter-widgets/controls",
          "model_module_version": "1.5.0",
          "model_name": "DescriptionStyleModel",
          "state": {
            "_model_module": "@jupyter-widgets/controls",
            "_model_module_version": "1.5.0",
            "_model_name": "DescriptionStyleModel",
            "_view_count": null,
            "_view_module": "@jupyter-widgets/base",
            "_view_module_version": "1.2.0",
            "_view_name": "StyleView",
            "description_width": ""
          }
        },
        "8a8ed18546454df6bc8323a407066369": {
          "model_module": "@jupyter-widgets/controls",
          "model_module_version": "1.5.0",
          "model_name": "ProgressStyleModel",
          "state": {
            "_model_module": "@jupyter-widgets/controls",
            "_model_module_version": "1.5.0",
            "_model_name": "ProgressStyleModel",
            "_view_count": null,
            "_view_module": "@jupyter-widgets/base",
            "_view_module_version": "1.2.0",
            "_view_name": "StyleView",
            "bar_color": null,
            "description_width": ""
          }
        },
        "9552a59b96ce46809c5565215c122c72": {
          "model_module": "@jupyter-widgets/controls",
          "model_module_version": "1.5.0",
          "model_name": "HTMLModel",
          "state": {
            "_dom_classes": [],
            "_model_module": "@jupyter-widgets/controls",
            "_model_module_version": "1.5.0",
            "_model_name": "HTMLModel",
            "_view_count": null,
            "_view_module": "@jupyter-widgets/controls",
            "_view_module_version": "1.5.0",
            "_view_name": "HTMLView",
            "description": "",
            "description_tooltip": null,
            "layout": "IPY_MODEL_95b4b79f72e344c5961ca5422b62243a",
            "placeholder": "​",
            "style": "IPY_MODEL_6e27936c90a045f0b0c4b30c6906a866",
            "value": "Downloading https://raw.githubusercontent.com/stanfordnlp/stanza-resources/main/resources_1.4.1.json: "
          }
        },
        "95b4b79f72e344c5961ca5422b62243a": {
          "model_module": "@jupyter-widgets/base",
          "model_module_version": "1.2.0",
          "model_name": "LayoutModel",
          "state": {
            "_model_module": "@jupyter-widgets/base",
            "_model_module_version": "1.2.0",
            "_model_name": "LayoutModel",
            "_view_count": null,
            "_view_module": "@jupyter-widgets/base",
            "_view_module_version": "1.2.0",
            "_view_name": "LayoutView",
            "align_content": null,
            "align_items": null,
            "align_self": null,
            "border": null,
            "bottom": null,
            "display": null,
            "flex": null,
            "flex_flow": null,
            "grid_area": null,
            "grid_auto_columns": null,
            "grid_auto_flow": null,
            "grid_auto_rows": null,
            "grid_column": null,
            "grid_gap": null,
            "grid_row": null,
            "grid_template_areas": null,
            "grid_template_columns": null,
            "grid_template_rows": null,
            "height": null,
            "justify_content": null,
            "justify_items": null,
            "left": null,
            "margin": null,
            "max_height": null,
            "max_width": null,
            "min_height": null,
            "min_width": null,
            "object_fit": null,
            "object_position": null,
            "order": null,
            "overflow": null,
            "overflow_x": null,
            "overflow_y": null,
            "padding": null,
            "right": null,
            "top": null,
            "visibility": null,
            "width": null
          }
        },
        "aa171099b3ea45a2b40c6f6334203875": {
          "model_module": "@jupyter-widgets/base",
          "model_module_version": "1.2.0",
          "model_name": "LayoutModel",
          "state": {
            "_model_module": "@jupyter-widgets/base",
            "_model_module_version": "1.2.0",
            "_model_name": "LayoutModel",
            "_view_count": null,
            "_view_module": "@jupyter-widgets/base",
            "_view_module_version": "1.2.0",
            "_view_name": "LayoutView",
            "align_content": null,
            "align_items": null,
            "align_self": null,
            "border": null,
            "bottom": null,
            "display": null,
            "flex": null,
            "flex_flow": null,
            "grid_area": null,
            "grid_auto_columns": null,
            "grid_auto_flow": null,
            "grid_auto_rows": null,
            "grid_column": null,
            "grid_gap": null,
            "grid_row": null,
            "grid_template_areas": null,
            "grid_template_columns": null,
            "grid_template_rows": null,
            "height": null,
            "justify_content": null,
            "justify_items": null,
            "left": null,
            "margin": null,
            "max_height": null,
            "max_width": null,
            "min_height": null,
            "min_width": null,
            "object_fit": null,
            "object_position": null,
            "order": null,
            "overflow": null,
            "overflow_x": null,
            "overflow_y": null,
            "padding": null,
            "right": null,
            "top": null,
            "visibility": null,
            "width": null
          }
        },
        "c7f10ef9175b4d5fb3b00a83c9ce5d03": {
          "model_module": "@jupyter-widgets/controls",
          "model_module_version": "1.5.0",
          "model_name": "FloatProgressModel",
          "state": {
            "_dom_classes": [],
            "_model_module": "@jupyter-widgets/controls",
            "_model_module_version": "1.5.0",
            "_model_name": "FloatProgressModel",
            "_view_count": null,
            "_view_module": "@jupyter-widgets/controls",
            "_view_module_version": "1.5.0",
            "_view_name": "ProgressView",
            "bar_style": "success",
            "description": "",
            "description_tooltip": null,
            "layout": "IPY_MODEL_0cf2bdfef96c4357a530c6dda93044b1",
            "max": 561333907,
            "min": 0,
            "orientation": "horizontal",
            "style": "IPY_MODEL_8a8ed18546454df6bc8323a407066369",
            "value": 561333907
          }
        },
        "cc02f77894054f63a7bba3f9d21dd997": {
          "model_module": "@jupyter-widgets/base",
          "model_module_version": "1.2.0",
          "model_name": "LayoutModel",
          "state": {
            "_model_module": "@jupyter-widgets/base",
            "_model_module_version": "1.2.0",
            "_model_name": "LayoutModel",
            "_view_count": null,
            "_view_module": "@jupyter-widgets/base",
            "_view_module_version": "1.2.0",
            "_view_name": "LayoutView",
            "align_content": null,
            "align_items": null,
            "align_self": null,
            "border": null,
            "bottom": null,
            "display": null,
            "flex": null,
            "flex_flow": null,
            "grid_area": null,
            "grid_auto_columns": null,
            "grid_auto_flow": null,
            "grid_auto_rows": null,
            "grid_column": null,
            "grid_gap": null,
            "grid_row": null,
            "grid_template_areas": null,
            "grid_template_columns": null,
            "grid_template_rows": null,
            "height": null,
            "justify_content": null,
            "justify_items": null,
            "left": null,
            "margin": null,
            "max_height": null,
            "max_width": null,
            "min_height": null,
            "min_width": null,
            "object_fit": null,
            "object_position": null,
            "order": null,
            "overflow": null,
            "overflow_x": null,
            "overflow_y": null,
            "padding": null,
            "right": null,
            "top": null,
            "visibility": null,
            "width": null
          }
        },
        "cceaa8fbcaae4e59a657a8a34ef1fc01": {
          "model_module": "@jupyter-widgets/controls",
          "model_module_version": "1.5.0",
          "model_name": "ProgressStyleModel",
          "state": {
            "_model_module": "@jupyter-widgets/controls",
            "_model_module_version": "1.5.0",
            "_model_name": "ProgressStyleModel",
            "_view_count": null,
            "_view_module": "@jupyter-widgets/base",
            "_view_module_version": "1.2.0",
            "_view_name": "StyleView",
            "bar_color": null,
            "description_width": ""
          }
        },
        "dae79ab5ecd3412e97f918f1dea3c5b1": {
          "model_module": "@jupyter-widgets/controls",
          "model_module_version": "1.5.0",
          "model_name": "HTMLModel",
          "state": {
            "_dom_classes": [],
            "_model_module": "@jupyter-widgets/controls",
            "_model_module_version": "1.5.0",
            "_model_name": "HTMLModel",
            "_view_count": null,
            "_view_module": "@jupyter-widgets/controls",
            "_view_module_version": "1.5.0",
            "_view_name": "HTMLView",
            "description": "",
            "description_tooltip": null,
            "layout": "IPY_MODEL_1bbc55dda3a14432b5e0092840991f43",
            "placeholder": "​",
            "style": "IPY_MODEL_733fda8f495643ada2b51460ecf3785a",
            "value": " 561M/561M [00:07&lt;00:00, 82.0MB/s]"
          }
        },
        "dcfaf7c3409f4bacbd04b5a892843f29": {
          "model_module": "@jupyter-widgets/controls",
          "model_module_version": "1.5.0",
          "model_name": "ProgressStyleModel",
          "state": {
            "_model_module": "@jupyter-widgets/controls",
            "_model_module_version": "1.5.0",
            "_model_name": "ProgressStyleModel",
            "_view_count": null,
            "_view_module": "@jupyter-widgets/base",
            "_view_module_version": "1.2.0",
            "_view_name": "StyleView",
            "bar_color": null,
            "description_width": ""
          }
        },
        "eef155927dc148028555b83019fe899f": {
          "model_module": "@jupyter-widgets/controls",
          "model_module_version": "1.5.0",
          "model_name": "HTMLModel",
          "state": {
            "_dom_classes": [],
            "_model_module": "@jupyter-widgets/controls",
            "_model_module_version": "1.5.0",
            "_model_name": "HTMLModel",
            "_view_count": null,
            "_view_module": "@jupyter-widgets/controls",
            "_view_module_version": "1.5.0",
            "_view_name": "HTMLView",
            "description": "",
            "description_tooltip": null,
            "layout": "IPY_MODEL_29738854edca426ea10385cfcf409d26",
            "placeholder": "​",
            "style": "IPY_MODEL_16662c2715544c1797ac57ef83b43373",
            "value": "Downloading https://huggingface.co/stanfordnlp/stanza-en/resolve/v1.4.1/models/default.zip: 100%"
          }
        },
        "f8002c2755c348e2b839ac5d474da211": {
          "model_module": "@jupyter-widgets/controls",
          "model_module_version": "1.5.0",
          "model_name": "FloatProgressModel",
          "state": {
            "_dom_classes": [],
            "_model_module": "@jupyter-widgets/controls",
            "_model_module_version": "1.5.0",
            "_model_name": "FloatProgressModel",
            "_view_count": null,
            "_view_module": "@jupyter-widgets/controls",
            "_view_module_version": "1.5.0",
            "_view_name": "ProgressView",
            "bar_style": "success",
            "description": "",
            "description_tooltip": null,
            "layout": "IPY_MODEL_3f88a64fb1544d1aa5215eade8d17005",
            "max": 28918,
            "min": 0,
            "orientation": "horizontal",
            "style": "IPY_MODEL_dcfaf7c3409f4bacbd04b5a892843f29",
            "value": 28918
          }
        },
        "fb13dc01a8f14a9ab3c56845ec4d32cd": {
          "model_module": "@jupyter-widgets/controls",
          "model_module_version": "1.5.0",
          "model_name": "HBoxModel",
          "state": {
            "_dom_classes": [],
            "_model_module": "@jupyter-widgets/controls",
            "_model_module_version": "1.5.0",
            "_model_name": "HBoxModel",
            "_view_count": null,
            "_view_module": "@jupyter-widgets/controls",
            "_view_module_version": "1.5.0",
            "_view_name": "HBoxView",
            "box_style": "",
            "children": [
              "IPY_MODEL_6f3715d6823a4aaeb5ae1ce8408be1ec",
              "IPY_MODEL_418f2a81cd3a4c94b51d32b45baf4068",
              "IPY_MODEL_21894e29ca0e4ae58d89d71249a44371"
            ],
            "layout": "IPY_MODEL_7263388e0dc54c588bc9a89a7358aa85"
          }
        },
        "fe751a2c14a3445c84a10583f5d4feba": {
          "model_module": "@jupyter-widgets/controls",
          "model_module_version": "1.5.0",
          "model_name": "HBoxModel",
          "state": {
            "_dom_classes": [],
            "_model_module": "@jupyter-widgets/controls",
            "_model_module_version": "1.5.0",
            "_model_name": "HBoxModel",
            "_view_count": null,
            "_view_module": "@jupyter-widgets/controls",
            "_view_module_version": "1.5.0",
            "_view_name": "HBoxView",
            "box_style": "",
            "children": [
              "IPY_MODEL_9552a59b96ce46809c5565215c122c72",
              "IPY_MODEL_f8002c2755c348e2b839ac5d474da211",
              "IPY_MODEL_2b745550e3b64a79b046aa70f7af8be2"
            ],
            "layout": "IPY_MODEL_cc02f77894054f63a7bba3f9d21dd997"
          }
        }
      }
    }
  },
  "nbformat": 4,
  "nbformat_minor": 0
}
